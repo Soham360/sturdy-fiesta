{
 "cells": [
  {
   "cell_type": "markdown",
   "metadata": {},
   "source": [
    "---\n",
    "title: Unit 9 Lesson\n",
    "toc: true\n",
    "description: Lesson for Inheritance\n",
    "courses: { csse: {week: 3}, csp: {week: 2, categories: [3.A, 5.B]}, csa: {week: 7} }\n",
    "categories: [C3.0, C3.1, C4.1]\n",
    "type: base\n",
    "layout: base\n",
    "permalink: /lesson\n",
    "---"
   ]
  },
  {
   "cell_type": "markdown",
   "metadata": {},
   "source": [
    "# 9.1 What is inheritance?\n",
    "\n",
    "- Inheritance is like a family, except the kids only have one parent instead of two\n",
    "- For example:\n",
    "<p class=\"center1\">\n",
    "  <img src=\"{{ site.baseurl }}/images/Inherit.png\" width=500px/>\n",
    "</p>\n",
    "The java code for it:\n",
    "\n",
    "```java\n",
    "class Mom{\n",
    "    // CODE\n",
    "}\n",
    "class Son extends Mom{\n",
    "    // CODE\n",
    "}\n",
    "class Daughter extends Mom{\n",
    "    // CODE\n",
    "}\n",
    "```\n",
    "In this example, the Son and Daughter inherits the Mom, meaning it inherit the components of the mother. This makes the \"Son\" and \"Daughter\" classes the ____ of the \"Mom\" class as they inherit the \"Mom\" class components and the \"Mom\" class the _____. "
   ]
  },
  {
   "cell_type": "markdown",
   "metadata": {},
   "source": [
    "## 9.2 Using the Super keyword for Constructors\n",
    "- One keyword to know is the super keyword\n",
    "- The super keyword allows the subclass to store key variables in the main class's ____ (also known as the super class)\n",
    "- Example below:"
   ]
  },
  {
   "cell_type": "code",
   "execution_count": 47,
   "metadata": {
    "vscode": {
     "languageId": "java"
    }
   },
   "outputs": [
    {
     "name": "stdout",
     "output_type": "stream",
     "text": [
      "VROOM! VROOM!\n",
      "I am the Tesla\n",
      "I was made in 2003\n",
      "I move at 200 miles per hour\n",
      "I hold at most 5 people\n"
     ]
    }
   ],
   "source": [
    "public class Vehicle { //This is the Superclas, it inherits the key variables for its subclasses\n",
    "    public String Name; //They don't have to be public, but I just put public word for fun\n",
    "    public String Sound;\n",
    "    public int creation;\n",
    "    public int Mph;\n",
    "    public Vehicle(String name, int dateMade, String sound, int mph){ //Similar to the constructor used in Javascript. It maintains values within this superclass\n",
    "        Name = name; \n",
    "        Sound = sound;\n",
    "        creation = dateMade;\n",
    "        Mph = mph;\n",
    "    }\n",
    "}\n",
    "\n",
    "public class Car extends Vehicle {\n",
    "    public int capacity;\n",
    "    public Car(String name, int dateMade, String sound, int mph, int passangerCapacity){\n",
    "        super(name, dateMade,sound, mph); //Uses the superclass's constructor to store the key variables for the Car subclass\n",
    "        capacity = passangerCapacity;\n",
    "    }\n",
    "    public void Information(){ //Prints out the values the super class's constructors inherits\n",
    "        System.out.println(super.Sound + \" \" + this.Sound);\n",
    "        System.out.println(\"I am the \" + super.Name);\n",
    "        System.out.println(\"I was made in \" + super.creation);\n",
    "        System.out.println(\"I move at \" + super.Mph +\" miles per hour\");\n",
    "        System.out.println(\"I hold at most \" + capacity + \" people\");\n",
    "    }\n",
    "}\n",
    "\n",
    "public class Test {\n",
    "    public static void main(String[] args){\n",
    "        Car Tesla = new Car(\"Tesla\", 2003, \"VROOM!\", 200, 5);\n",
    "        Tesla.Information();\n",
    "    }\n",
    "}\n",
    "\n",
    "Test.main(null);"
   ]
  },
  {
   "cell_type": "markdown",
   "metadata": {},
   "source": [
    "## Popcorn Hack: \n",
    "Make it so that a new instance of Bob runs"
   ]
  },
  {
   "cell_type": "code",
   "execution_count": null,
   "metadata": {
    "vscode": {
     "languageId": "java"
    }
   },
   "outputs": [],
   "source": [
    "public class Worker{\n",
    "    String Name;\n",
    "    int Age;\n",
    "    int Salary;\n",
    "    public Worker(String name, int age, double salary){\n",
    "        //Write codes that inherits its key properties\n",
    "    }\n",
    "}\n",
    "public class Bob extends Worker{\n",
    "    public Bob(String name, int age, double salary, position){\n",
    "        //Write code that maintains bob's information\n",
    "    }\n",
    "    public void Information(){\n",
    "        //Write code that writes out Bob's key information\n",
    "    }\n",
    "}\n",
    "public class Test{\n",
    "    public static void main(String[] args){\n",
    "        //Make sure that it runs\n",
    "    }\n",
    "}"
   ]
  },
  {
   "cell_type": "markdown",
   "metadata": {},
   "source": [
    "## 9.3 Overriding Methods\n",
    "\n",
    "Method overriding is a concept in object-oriented programming (OOP) that allows a subclass to provide a specific implementation of a method that is already defined in its superclass. This enables a subclass to provide its own behavior for a method while maintaining a relationship with its superclass.\n",
    "\n",
    "In the context Java, here's how method overriding works:\n",
    "\n",
    "Inheritance: Method overriding is closely related to inheritance. You have a superclass (or base class) and a subclass (or derived class). The subclass inherits properties and behaviors from the superclass.\n",
    "\n",
    "Superclass Method: The superclass defines a method. This method can be overridden by the subclass.\n",
    "\n",
    "Subclass Overrides: In the subclass, you can provide a new implementation of the same method. This is done by using the same method name, return type, and parameter list.\n",
    "\n",
    "@Override Annotation (Java): In Java, it's common to use the @Override annotation to explicitly indicate that a method in the subclass is intended to override a method in the superclass. This helps catch errors during compilation if the method doesn't correctly match the superclass method signature.\n",
    "\n",
    "### Why Override Methods:\n",
    "\n",
    "Method overriding is used for several reasons:\n",
    "\n",
    "Customization: It allows you to customize or extend the behavior of a superclass method in the subclass to meet the specific needs of the subclass.\n",
    "\n",
    "Polymorphism: Method overriding is a key component of polymorphism. It enables you to treat objects of the subclass as if they were objects of the superclass, promoting flexibility and extensibility.\n",
    "\n",
    "Consistency: Method overriding helps maintain a consistent interface for classes in an inheritance hierarchy. Code that uses the superclass doesn't need to be changed when a subclass overrides a method.\n",
    "\n",
    "Code Reusability: It promotes code reusability by allowing you to build on existing code in the superclass."
   ]
  },
  {
   "cell_type": "code",
   "execution_count": null,
   "metadata": {
    "vscode": {
     "languageId": "java"
    }
   },
   "outputs": [],
   "source": [
    "class Animal {\n",
    "    void makeSound() {\n",
    "        System.out.println(\"Animals make sounds\");\n",
    "    }\n",
    "}\n",
    "\n",
    "class Dog extends Animal {\n",
    "    @Override\n",
    "    void makeSound() {\n",
    "        System.out.println(\"Dog barks\");\n",
    "    }\n",
    "}\n",
    "\n",
    "class Cat extends Animal {\n",
    "    @Override\n",
    "    void makeSound() {\n",
    "        System.out.println(\"Cat meows\");\n",
    "    }\n",
    "}\n",
    "\n",
    "public class Main {\n",
    "    public static void main(String[] args) {\n",
    "        Animal animal = new Animal();\n",
    "        Animal dog = new Dog();\n",
    "        Animal cat = new Cat();\n",
    "\n",
    "        animal.makeSound(); // Output: Animals make sounds\n",
    "        dog.makeSound();    // Output: Dog barks\n",
    "        cat.makeSound();    // Output: Cat meows\n",
    "    }\n",
    "}\n",
    "\n",
    "Main.main(null);"
   ]
  },
  {
   "cell_type": "markdown",
   "metadata": {},
   "source": [
    "## In this example:\n",
    "\n",
    "We have a base class Animal with a method makeSound().\n",
    "\n",
    "We create two subclasses, Dog and Cat, which inherit from the Animal class.\n",
    "\n",
    "Both Dog and Cat classes override the makeSound() method with their own implementations.\n",
    "\n",
    "In the main method, we create instances of the base class and its subclasses.\n",
    "\n",
    "We demonstrate polymorphism by calling the makeSound() method on objects of the base class and the subclasses. The method called depends on the actual type of the object, not the reference type.\n",
    "\n",
    "This showcases how method overriding allows you to provide specific implementations for methods in subclasses, promoting polymorphism and custom behavior for each subclass."
   ]
  },
  {
   "cell_type": "markdown",
   "metadata": {},
   "source": [
    "## Another Example:\n",
    "\n",
    "\n",
    "<img class=\"image\" src=\"https://github.com/AniCricKet/musical-guacamole/assets/111466950/ef486ede-a6bd-41c9-8341-28389edc9127\" width=17%>\n",
    "<img class=\"image\" src=\"https://github.com/AniCricKet/musical-guacamole/assets/91163802/03923e22-2b6e-4e4d-9244-1d5145f6c6d9\" width=33%>\n",
    "<img class=\"image\" src=\"https://github.com/AniCricKet/musical-guacamole/assets/111466950/c1d0f323-7b51-438c-b933-7f5f62c26669\" width=33%>"
   ]
  },
  {
   "cell_type": "markdown",
   "metadata": {},
   "source": [
    "\n",
    "Imagine you're building a program to manage sports team rosters. You can have a base class 'Athlete' representing common attributes and actions of all athletes. Then, create subclasses for specific sports like 'FootballPlayer', 'BasketballPlayer', and 'SoccerPlayer'."
   ]
  },
  {
   "cell_type": "code",
   "execution_count": null,
   "metadata": {
    "vscode": {
     "languageId": "java"
    }
   },
   "outputs": [],
   "source": [
    "// Base Class\n",
    "class Athlete {\n",
    "    String name;\n",
    "    int age;\n",
    "    int jerseyNumber;\n",
    "    String position;\n",
    "\n",
    "    public Athlete(String name, int age, int jerseyNumber, String position) {\n",
    "        this.name = name;\n",
    "        this.age = age;\n",
    "        this.jerseyNumber = jerseyNumber;\n",
    "        this.position = position;\n",
    "    }\n",
    "\n",
    "    public void train() {\n",
    "        System.out.println(name + \" is training.\");\n",
    "    }\n",
    "\n",
    "    public void displayInfo() {\n",
    "        System.out.println(\"Athlete Info:\");\n",
    "        System.out.println(\"Name: \" + name);\n",
    "        System.out.println(\"Age: \" + age);\n",
    "        System.out.println(\"Jersey Number: \" + jerseyNumber);\n",
    "        System.out.println(\"Position: \" + position);\n",
    "    }\n",
    "}\n",
    "\n",
    "Athlete athlete = new Athlete(\"John Mortensen\", 19, 4, \"Teacher\");\n",
    "athlete.train();\n",
    "athlete.displayInfo();"
   ]
  },
  {
   "cell_type": "code",
   "execution_count": null,
   "metadata": {
    "vscode": {
     "languageId": "java"
    }
   },
   "outputs": [],
   "source": [
    "class FootballPlayer extends Athlete {\n",
    "    public FootballPlayer(String name, int age, int jerseyNumber, String position) {\n",
    "        super(name, age, jerseyNumber, position);\n",
    "    }\n",
    "\n",
    "    @Override\n",
    "    public void train() {\n",
    "        System.out.println(name + \" is practicing football drills.\");\n",
    "    }\n",
    "\n",
    "    @Override\n",
    "    public void displayInfo() {\n",
    "        super.displayInfo();\n",
    "    }\n",
    "}\n",
    "\n",
    "class BasketballPlayer extends Athlete {\n",
    "    public BasketballPlayer(String name, int age, int jerseyNumber, String position) {\n",
    "        super(name, age, jerseyNumber, position);\n",
    "    }\n",
    "\n",
    "    @Override\n",
    "    public void train() {\n",
    "        System.out.println(name + \" is shooting 3s on the court.\");\n",
    "    }\n",
    "\n",
    "    @Override\n",
    "    public void displayInfo() {\n",
    "        super.displayInfo();\n",
    "    }\n",
    "}\n",
    "\n",
    "class SoccerPlayer extends Athlete {\n",
    "    public SoccerPlayer(String name, int age, int jerseyNumber, String position) {\n",
    "        super(name, age, jerseyNumber, position);\n",
    "    }\n",
    "\n",
    "    @Override\n",
    "    public void train() {\n",
    "        System.out.println(name + \" is practicing taking free kicks.\");\n",
    "    }\n",
    "\n",
    "    @Override\n",
    "    public void displayInfo() {\n",
    "        super.displayInfo();\n",
    "    }\n",
    "}\n"
   ]
  },
  {
   "cell_type": "code",
   "execution_count": null,
   "metadata": {
    "vscode": {
     "languageId": "java"
    }
   },
   "outputs": [],
   "source": [
    "FootballPlayer footballPlayer = new FootballPlayer(\"Tyreek Hill\", 28, 10, \"Wide Receiver\");\n",
    "BasketballPlayer basketballPlayer = new BasketballPlayer(\"Jimmy Butler\", 32, 22, \"Small Forward\");\n",
    "SoccerPlayer soccerPlayer = new SoccerPlayer(\"Neymar Jr\", 31, 10, \"Left Winger\");\n",
    "\n",
    "footballPlayer.train();\n",
    "footballPlayer.displayInfo();\n",
    "System.out.println();\n",
    "\n",
    "basketballPlayer.train();\n",
    "basketballPlayer.displayInfo();\n",
    "System.out.println();\n",
    "\n",
    "soccerPlayer.train();\n",
    "soccerPlayer.displayInfo();\n",
    "System.out.println();"
   ]
  },
  {
   "cell_type": "markdown",
   "metadata": {},
   "source": [
    "## 9.4 Using Super keyword for Methods\n",
    "- Why only use super for constructors when you can use them for methods too?\n",
    "- With the super key word, not only can you store variables, but also store methods"
   ]
  },
  {
   "cell_type": "code",
   "execution_count": null,
   "metadata": {
    "vscode": {
     "languageId": "java"
    }
   },
   "outputs": [],
   "source": [
    "class Animal{\n",
    "    public void Introduction(String name){\n",
    "        System.out.println(\"I am a \" + name);\n",
    "    }\n",
    "}\n",
    "class Dog extends Animal{ \n",
    "    public void Woof(){\n",
    "        super.Introduction(\"Dog\");//Inherits the introduction method in the Animal Class, then introduces itself as a dog\n",
    "        System.out.println(\"Woof!\"); //Does its own thing\n",
    "    }\n",
    "}\n",
    "class Cow extends Animal{\n",
    "    public void Moo(){\n",
    "        super.Introduction(\"Cow\");//Inherits the introduction method in the Animal Class, then introduces itself as a cow\n",
    "        System.out.println(\"MOOOO!\");//Does its own thing\n",
    "    }\n",
    "}\n",
    "class Test{\n",
    "    public static void main(String[] args){\n",
    "        Dog dog = new Dog();\n",
    "        Cow cow = new Cow();\n",
    "        dog.Woof();\n",
    "        cow.Moo();\n",
    "    }\n",
    "}\n",
    "Test.main(null);"
   ]
  },
  {
   "cell_type": "markdown",
   "metadata": {},
   "source": [
    "## Popcorn Hack\n",
    "Finish up the popcorn hack with this criteria: All subclasses must say their origin, the origin can be from SchoolSupply class, and it must run through main."
   ]
  },
  {
   "cell_type": "code",
   "execution_count": null,
   "metadata": {
    "vscode": {
     "languageId": "java"
    }
   },
   "outputs": [],
   "source": [
    "class SchoolSupply{\n",
    "    public void BasicInfo(){\n",
    "        //Code\n",
    "    }\n",
    "}\n",
    "class Pencil extends SchoolSupply{\n",
    "    public void Information(){\n",
    "        //Code\n",
    "    }\n",
    "}\n",
    "class Eraser extends SchoolSupply{\n",
    "    public void Information(){\n",
    "        //Code\n",
    "    }\n",
    "}\n",
    "public class Test{\n",
    "    public static void main(String[] args){\n",
    "        //Code\n",
    "    }\n",
    "}"
   ]
  },
  {
   "cell_type": "markdown",
   "metadata": {},
   "source": [
    "## 9.5 Creating References Using Inheritance Hierarchies\n",
    "Inheritance can be thought as an upside down tree with the ____ on the top and the ____ on the bottom. The ____ is the superclass while the ____ are the subclasses of this superclass. A visual representation of this tree is called a type diagram or hierarchy tree.\n",
    "\n",
    "A sample structure would be like:\n",
    "```\n",
    "public class A\n",
    "public class B extends A\n",
    "public class C extends B\n",
    "public class D extends C\n",
    "public class E extends I\n",
    "public class F extends I\n",
    "public class G extends H\n",
    "public class H extends A\n",
    "public class I extends H\n",
    "```\n",
    "A visual version of this would look like\n",
    "\n",
    "![example](https://github.com/Soham360/sturdy-fiesta/assets/111466950/e73acb0a-5590-48d8-8623-81170cdc9450)\n",
    "\n",
    "In addition, you could also create objects like this:\n",
    "```\n",
    "C c = new C();\n",
    "B c = new C();\n",
    "A c = new C();\n",
    "```\n",
    "The structure above works as C not only inherits properties from B, but it also inherits properties from A. B is like C's parent and A is like C's grandparent. Think about it like real life, all families inherit something from their ancestors."
   ]
  },
  {
   "cell_type": "code",
   "execution_count": null,
   "metadata": {
    "vscode": {
     "languageId": "java"
    }
   },
   "outputs": [],
   "source": [
    "// This is the above example in code form\n",
    "\n",
    "class A {}\n",
    "class B extends A {}\n",
    "class C extends B {}\n",
    "\n",
    "public class Main {\n",
    "    public static void main(String[] args) {\n",
    "        C c = new C(); // variable c is of type C\n",
    "        B b = new C(); // variable b is of type B, but refers to an instance of C\n",
    "        A a = new C(); // variable a is of type A, but refers to an instance of C\n",
    "    }\n",
    "}\n",
    "\n",
    "Main.main(null);"
   ]
  },
  {
   "cell_type": "markdown",
   "metadata": {},
   "source": [
    "## 9.6 Polymorphism\n",
    "Java Polymorphism Notes\n",
    "\n",
    "A reference variable is polymorphic when it can refer to objects from different classes at different points in time\n",
    "- A reference variable can store a reference to its declared class or any subclass of it's declared class\n",
    "\n",
    "A method is considered polymorphic when it is overridden in at least one subclass\n",
    "\n",
    "Polymorphism is the act of executing an overridden non-static method from the correct class at runtime based on the actual object type\n",
    "\n",
    "Polymorphism allows code for a method call to be executed based on the class of the object referenced instead of the declared class\n",
    "\n",
    "## Example 1"
   ]
  },
  {
   "cell_type": "markdown",
   "metadata": {},
   "source": [
    "## Example 2 & Popcorn Hack\n",
    "Before executing cell, look at the example below. Think about which methods compiles? Which methods execute?"
   ]
  },
  {
   "cell_type": "code",
   "execution_count": null,
   "metadata": {
    "vscode": {
     "languageId": "java"
    }
   },
   "outputs": [],
   "source": [
    "import java.util.Random;\n",
    "\n",
    "public class Entertainer{\n",
    "    private String talent;\n",
    "    public Entertainer (String t){\n",
    "        talent = t;\n",
    "    }\n",
    "    public String getTalent(){\n",
    "        return talent;\n",
    "    }\n",
    "}\n",
    "\n",
    "public class Comedian extends Entertainer{\n",
    "    private ArrayList<String> jokes;\n",
    "    public Comedian(String t, ArrayList<String> jks){\n",
    "        super(t);\n",
    "        jokes = jks;\n",
    "    }\n",
    "    public String getTalent(){\n",
    "        return \"Comedy style: \" + super.getTalent();\n",
    "    }\n",
    "    public String tellJoke(){\n",
    "        return jokes.get((int)(Math.random()*jokes.size()));\n",
    "    }\n",
    "}\n",
    "\n",
    "// Which one of these will run? Which one of these will not? Comment out the line that isn't working\n",
    "Entertainer fred = new Entertainer(\"Musician\");\n",
    "System.out.println(fred.getTalent());\n",
    "System.out.println(fred.tellJoke());\n"
   ]
  },
  {
   "cell_type": "markdown",
   "metadata": {},
   "source": [
    "## 9.7 Object Superclass\n",
    "Now that we have learned about inheritance, what even allows our classes and objects that we have created to work the way they do? Where do the general characteristics of all objects come from? The answer lies in the ____ class.\n",
    "\n",
    "The Object class is the superclass of all other classes as well as arrays and other data types. The Object class is part of the java.lang package.\n",
    "\n",
    "When we call a constructor to a \"top-level class\" that the coder hasn't declared a superclass for, the Object constructor is implicitly called. In other words, the Object constructor is implicitly called when we call a constructor in a class that doesn't explicitly extend another class. This will give the object some properties and methods that are common to all classes."
   ]
  },
  {
   "cell_type": "code",
   "execution_count": null,
   "metadata": {
    "vscode": {
     "languageId": "java"
    }
   },
   "outputs": [],
   "source": [
    "public class Student {\n",
    "    private String name;\n",
    "    private int id;\n",
    "\n",
    "    public Student(String name, int id) {\n",
    "        this.name = name;\n",
    "        this.id = id;\n",
    "    }\n",
    "\n",
    "    @Override\n",
    "    public String toString() {\n",
    "        return \"Student [name=\" + name + \", id=\" + id + \"]\";\n",
    "    }\n",
    "\n",
    "    public static void main(String[] args) {\n",
    "        Student student = new Student(\"Alice\", 12345);\n",
    "        System.out.println(student.toString());\n",
    "    }\n",
    "}\n",
    "\n",
    "Student.main(null);"
   ]
  },
  {
   "cell_type": "code",
   "execution_count": null,
   "metadata": {
    "vscode": {
     "languageId": "java"
    }
   },
   "outputs": [],
   "source": [
    "public class Person {\n",
    "    private String name;\n",
    "    private int age;\n",
    "\n",
    "    public Person(String name, int age) {\n",
    "        this.name = name;\n",
    "        this.age = age;\n",
    "    }\n",
    "\n",
    "    @Override\n",
    "    public boolean equals(Object obj) {\n",
    "        if (this == obj) {\n",
    "            return true;\n",
    "        }\n",
    "        if (obj == null || getClass() != obj.getClass()) {\n",
    "            return false;\n",
    "        }\n",
    "        Person person = (Person) obj;\n",
    "        return age == person.age && Objects.equals(name, person.name);\n",
    "    }\n",
    "\n",
    "    public static void main(String[] args) {\n",
    "        Person person1 = new Person(\"Bob\", 30);\n",
    "        Person person2 = new Person(\"Bob\", 30);\n",
    "        System.out.println(person1.equals(person2)); // This should print true\n",
    "    }\n",
    "}\n",
    "\n",
    "Person.main(null);"
   ]
  },
  {
   "cell_type": "markdown",
   "metadata": {},
   "source": [
    "## Hacks\n",
    "- Popcorn Hacks (0.2): Participate in the discussion and fill in all of the blanks. \n",
    "- MC Questions (0.1): Answer the 10 MC questions below with short explanations\n",
    "- FRQ Hacks (0.5): Make a complex FRQ that involves everything we taught. Be sure to have a sample solution along with scoring guidlines and how the solution is scored.\n",
    "- Challenge (0.1): Make an example that uses everything we taught and it must run through main and uses input and output. Points will be awarded for complexity and creativity\n",
    "\n",
    "### MC Questions\n",
    "<img src=\"https://github.com/Soham360/sturdy-fiesta/assets/111466950/8f4143f5-147e-4986-b8c4-f2be549a8d66\" alt=\"Question 1\" width=\"750\">\n",
    "<img src=\"https://github.com/Soham360/sturdy-fiesta/assets/111466950/4596fe26-e22f-4836-abfb-b5026ae2b041\" alt=\"Question 2\" width=\"750\">\n",
    "<img src=\"https://github.com/Soham360/sturdy-fiesta/assets/111466950/0906e8f3-ec66-4269-b8e3-a928a0add502\" alt=\"Question 3\" width=\"750\">\n",
    "<img src=\"https://github.com/Soham360/sturdy-fiesta/assets/111466950/e04d0c1e-9185-43ca-95a1-605ca1379196\" alt=\"Question 4\" width=\"750\">\n",
    "<img src=\"https://github.com/Soham360/sturdy-fiesta/assets/111466950/cb7264df-a3fb-49c1-a386-7b98a8146da1\" alt=\"Question 5\" width=\"750\">\n",
    "<img src=\"https://github.com/Soham360/sturdy-fiesta/assets/111466950/0e842511-3a04-4c49-9d8b-3c879cdbe394\" alt=\"Question 6\" width=\"750\">\n",
    "<img src=\"https://github.com/Soham360/sturdy-fiesta/assets/111466950/f2eb4230-0e51-4e53-81d6-b2e014278114\" alt=\"Question 7\" width=\"750\">\n",
    "<img src=\"https://github.com/Soham360/sturdy-fiesta/assets/111466950/d89dc7e4-563f-4547-a143-5374e8204527\" alt=\"Question 8\" width=\"750\">\n",
    "<img src=\"https://github.com/Soham360/sturdy-fiesta/assets/111466950/11743110-e043-466b-8a5b-5219607f6f30\" alt=\"Question 9\" width=\"750\">\n",
    "<img src=\"https://github.com/Soham360/sturdy-fiesta/assets/111466950/9792698d-167a-4ad6-9b88-b4c9254e0c72\" alt=\"Question 10\" width=\"750\">"
   ]
  }
 ],
 "metadata": {
  "kernelspec": {
   "display_name": "Java",
   "language": "java",
   "name": "java"
  },
  "language_info": {
   "codemirror_mode": "java",
   "file_extension": ".jshell",
   "mimetype": "text/x-java-source",
   "name": "Java",
   "pygments_lexer": "java",
   "version": "11.0.20.1+1-post-Ubuntu-0ubuntu122.04"
  },
  "orig_nbformat": 4
 },
 "nbformat": 4,
 "nbformat_minor": 2
}
